{
 "cells": [
  {
   "cell_type": "markdown",
   "metadata": {},
   "source": [
    "### Deadline: 12:00 08.11 (Tuesday) \n",
    "**Group size: 2-3 persons.** <br>\n",
    "**Assignments should be performed in this ipython notebook, saved and sent to vasilev@uni-koblenz.de, florian.lemmerich@gesis.org, philipp.singer@gesis.org with Subject: [ML-Assignment]**<br>\n",
    "**You create groups on your own, names of all group participants should be mentioned in the letter.** "
   ]
  },
  {
   "cell_type": "markdown",
   "metadata": {},
   "source": [
    "###  Following cell is for data preparation, you should put 'adult.data' file in the same folder as current notebook and ran the cell in the beginning."
   ]
  },
  {
   "cell_type": "code",
   "execution_count": 7,
   "metadata": {
    "collapsed": false
   },
   "outputs": [],
   "source": [
    "from sklearn.model_selection import train_test_split\n",
    "import pandas as pd\n",
    "import numpy as np\n",
    "names = ['age','workclass','fnlwgt','education','education-num','marital-status','occupation','relationship','race','sex','capital-gain',\n",
    "        'capital-loss','hours-per-week','native-country','income']\n",
    "df = pd.read_csv('adult.data',names=names,index_col=False)\n",
    "df = df[['age','workclass','sex','hours-per-week','education','capital-gain','capital-loss','income']]\n",
    "df.replace(' ?',np.nan,inplace=True)"
   ]
  },
  {
   "cell_type": "markdown",
   "metadata": {},
   "source": [
    "### The dataset consists of 7 features of a person and an income class that they belong to: '>50K' or '<=50K'."
   ]
  },
  {
   "cell_type": "code",
   "execution_count": 8,
   "metadata": {
    "collapsed": false
   },
   "outputs": [
    {
     "data": {
      "text/html": [
       "<div>\n",
       "<table border=\"1\" class=\"dataframe\">\n",
       "  <thead>\n",
       "    <tr style=\"text-align: right;\">\n",
       "      <th></th>\n",
       "      <th>age</th>\n",
       "      <th>workclass</th>\n",
       "      <th>sex</th>\n",
       "      <th>hours-per-week</th>\n",
       "      <th>education</th>\n",
       "      <th>capital-gain</th>\n",
       "      <th>capital-loss</th>\n",
       "      <th>income</th>\n",
       "    </tr>\n",
       "  </thead>\n",
       "  <tbody>\n",
       "    <tr>\n",
       "      <th>0</th>\n",
       "      <td>39</td>\n",
       "      <td>State-gov</td>\n",
       "      <td>Male</td>\n",
       "      <td>40</td>\n",
       "      <td>Bachelors</td>\n",
       "      <td>2174</td>\n",
       "      <td>0</td>\n",
       "      <td>&lt;=50K</td>\n",
       "    </tr>\n",
       "    <tr>\n",
       "      <th>1</th>\n",
       "      <td>50</td>\n",
       "      <td>Self-emp-not-inc</td>\n",
       "      <td>Male</td>\n",
       "      <td>13</td>\n",
       "      <td>Bachelors</td>\n",
       "      <td>0</td>\n",
       "      <td>0</td>\n",
       "      <td>&lt;=50K</td>\n",
       "    </tr>\n",
       "    <tr>\n",
       "      <th>2</th>\n",
       "      <td>38</td>\n",
       "      <td>Private</td>\n",
       "      <td>Male</td>\n",
       "      <td>40</td>\n",
       "      <td>HS-grad</td>\n",
       "      <td>0</td>\n",
       "      <td>0</td>\n",
       "      <td>&lt;=50K</td>\n",
       "    </tr>\n",
       "    <tr>\n",
       "      <th>3</th>\n",
       "      <td>53</td>\n",
       "      <td>Private</td>\n",
       "      <td>Male</td>\n",
       "      <td>40</td>\n",
       "      <td>11th</td>\n",
       "      <td>0</td>\n",
       "      <td>0</td>\n",
       "      <td>&lt;=50K</td>\n",
       "    </tr>\n",
       "    <tr>\n",
       "      <th>4</th>\n",
       "      <td>28</td>\n",
       "      <td>Private</td>\n",
       "      <td>Female</td>\n",
       "      <td>40</td>\n",
       "      <td>Bachelors</td>\n",
       "      <td>0</td>\n",
       "      <td>0</td>\n",
       "      <td>&lt;=50K</td>\n",
       "    </tr>\n",
       "  </tbody>\n",
       "</table>\n",
       "</div>"
      ],
      "text/plain": [
       "   age          workclass      sex  hours-per-week   education  capital-gain  \\\n",
       "0   39          State-gov     Male              40   Bachelors          2174   \n",
       "1   50   Self-emp-not-inc     Male              13   Bachelors             0   \n",
       "2   38            Private     Male              40     HS-grad             0   \n",
       "3   53            Private     Male              40        11th             0   \n",
       "4   28            Private   Female              40   Bachelors             0   \n",
       "\n",
       "   capital-loss  income  \n",
       "0             0   <=50K  \n",
       "1             0   <=50K  \n",
       "2             0   <=50K  \n",
       "3             0   <=50K  \n",
       "4             0   <=50K  "
      ]
     },
     "execution_count": 8,
     "metadata": {},
     "output_type": "execute_result"
    }
   ],
   "source": [
    "df.head()"
   ]
  },
  {
   "cell_type": "markdown",
   "metadata": {},
   "source": [
    "## 1) Perform k-nearest neighbors algorithm with two k parameters of your choice on a given dataset."
   ]
  },
  {
   "cell_type": "markdown",
   "metadata": {},
   "source": [
    "### 1.1) Preprocessing: dataset contains missing values and categorical variables, you need to handle them, before applying an algorithm on the data."
   ]
  },
  {
   "cell_type": "code",
   "execution_count": 9,
   "metadata": {
    "collapsed": false
   },
   "outputs": [
    {
     "name": "stdout",
     "output_type": "stream",
     "text": [
      "{' Self-emp-not-inc': 5, ' Self-emp-inc': 7, ' State-gov': 0, ' Federal-gov': 1, ' Without-pay': 3, ' Local-gov': 4, ' Private': 6, ' Never-worked': 2}\n",
      "{' Male': 0, ' Female': 1}\n",
      "{' Assoc-acdm': 0, ' 7th-8th': 1, ' HS-grad': 6, ' Prof-school': 3, ' Doctorate': 5, ' 1st-4th': 7, ' 9th': 8, ' Preschool': 9, ' Bachelors': 10, ' 5th-6th': 11, ' Some-college': 15, ' 11th': 12, ' 10th': 4, ' 12th': 13, ' Masters': 14, ' Assoc-voc': 2}\n"
     ]
    }
   ],
   "source": [
    "df = df.dropna()#removing irrelevant row from dataset i.e. np.nan\n",
    "\n",
    "#Each string value per column is replaced with integer value\n",
    "df_columnNames = ['workclass' , 'sex' ,'education'] \n",
    "uniqueValueColumns = [set(df[i]) for i in df_columnNames]\n",
    "dictIntegerValueAdded = [dict(zip(uniqueValuePerColumn , [k for k in range(0,len(uniqueValuePerColumn))] )) for uniqueValuePerColumn in uniqueValueColumns]\n",
    "\n",
    "#Displaying the dictionary : mapped string value per column to integer\n",
    "print (dictIntegerValueAdded[0])\n",
    "print (dictIntegerValueAdded[1])\n",
    "print (dictIntegerValueAdded[2])\n",
    "\n",
    "#Replace the dataframe string values with above created integer value i.e from dictionary \n",
    "for i,columnName in enumerate(df_columnNames):\n",
    "    df = df.replace({columnName: dictIntegerValueAdded[i]}) "
   ]
  },
  {
   "cell_type": "markdown",
   "metadata": {
    "collapsed": true
   },
   "source": [
    "### 1.2) You need to divide your dataset into two parts: training and test. Training subset should contain 80% of the whole dataset and target classes should be balanced in both subsets."
   ]
  },
  {
   "cell_type": "code",
   "execution_count": 10,
   "metadata": {
    "collapsed": false
   },
   "outputs": [],
   "source": [
    "#For balancing the subsets - target classes\n",
    "AllLessEqualFiftyK = df[df['income']==' <=50K']  #i.e we take 80% 20% from this dataset (<=50K)\n",
    "AllGreaterFiftyK = df[df['income']==' >50K']    # i.e we take 80% 20% from this dataset (>50K)\n",
    "\n",
    "# Generate 80% : 20% of training and test set for <=50K\n",
    "trainLessEqualFiftyK = AllLessEqualFiftyK.sample(frac=0.8, random_state=1)\n",
    "# Select anything not in the training set and put it in the testing set.\n",
    "testLessEqualFiftyK = AllLessEqualFiftyK.loc[~AllLessEqualFiftyK.index.isin(trainLessEqualFiftyK.index)]\n",
    "\n",
    "\n",
    "#Generate 80% : 20% of training and test set for >50K\n",
    "trainGreaterFiftyK = AllGreaterFiftyK.sample(frac=0.8, random_state=1)\n",
    "# Select anything not in the training set and put it in the testing set.\n",
    "testGreaterFiftyK = AllGreaterFiftyK.loc[~AllGreaterFiftyK.index.isin(trainGreaterFiftyK.index)]\n",
    "\n",
    "#Merging the balanced dataset to obtain train and test data \n",
    "train = trainLessEqualFiftyK.append(trainGreaterFiftyK)\n",
    "test = testLessEqualFiftyK.append(testGreaterFiftyK)\n"
   ]
  },
  {
   "cell_type": "markdown",
   "metadata": {},
   "source": [
    "### 1.3) Apply k-nearest neighbors algorithm with two different k parameters of your choice:"
   ]
  },
  {
   "cell_type": "code",
   "execution_count": 11,
   "metadata": {
    "collapsed": false
   },
   "outputs": [
    {
     "name": "stdout",
     "output_type": "stream",
     "text": [
      "With k=1 the new customers will have following classes: [' <=50K' ' <=50K' ' <=50K' ..., ' >50K' ' >50K' ' <=50K']\n",
      "With k=9 the new customers will have following classes: [' <=50K' ' <=50K' ' <=50K' ..., ' >50K' ' >50K' ' <=50K']\n"
     ]
    }
   ],
   "source": [
    "from sklearn.neighbors import KNeighborsClassifier #Importing the classifier from scikit learn\n",
    "\n",
    "X_train = train[['age','workclass','sex','hours-per-week','education','capital-gain','capital-loss']] # Data that we will be training on\n",
    "y_train = train['income'] # Labels of training data\n",
    "X_test = test[['age','workclass','sex','hours-per-week','education','capital-gain','capital-loss']] # Data points which we will be testing\n",
    "\n",
    "\n",
    "knn1 = KNeighborsClassifier(n_neighbors=1) # Initializing first classifier with number of neighbours = 1\n",
    "knn9 = KNeighborsClassifier(n_neighbors=9) # Initializing second classifier with number of neighbours = 9\n",
    "\n",
    "knn1.fit(X_train,y_train);\n",
    "knn9.fit(X_train,y_train);\n",
    "\n",
    "# Prediction : k nearest neighbors algoritm with k = 1\n",
    "result1 = knn1.predict(X_test) #Predicting class of new customers with \n",
    "# Prediction : k nearest neighbors algoritm with k = 9\n",
    "result9 = knn9.predict(X_test)\n",
    "print(\"With k=1 the new customers will have following classes:\",result1)\n",
    "print(\"With k=9 the new customers will have following classes:\",result9)\n",
    "\n"
   ]
  },
  {
   "cell_type": "markdown",
   "metadata": {},
   "source": [
    "## 2) Evaluate and compare performance of two models:"
   ]
  },
  {
   "cell_type": "markdown",
   "metadata": {},
   "source": [
    "### 2.1) Print performance metrics of your models:"
   ]
  },
  {
   "cell_type": "code",
   "execution_count": 12,
   "metadata": {
    "collapsed": false
   },
   "outputs": [
    {
     "name": "stdout",
     "output_type": "stream",
     "text": [
      "FOR K = 1\n",
      "             precision    recall  f1-score   support\n",
      "\n",
      "      <=50K       0.84      0.94      0.89      4615\n",
      "       >50K       0.72      0.44      0.55      1530\n",
      "\n",
      "avg / total       0.81      0.82      0.80      6145\n",
      "\n",
      "------------------------------------------------------\n",
      "FOR K = 9\n",
      "             precision    recall  f1-score   support\n",
      "\n",
      "      <=50K       0.84      0.96      0.89      4615\n",
      "       >50K       0.77      0.43      0.55      1530\n",
      "\n",
      "avg / total       0.82      0.83      0.81      6145\n",
      "\n",
      "------------------------------------------------------\n",
      "TOTAL CORRECT\n",
      "for K = 1\n",
      "5024 / 6145 correct\n",
      "for K = 9\n",
      "5081 / 6145 correct\n"
     ]
    }
   ],
   "source": [
    "#importing report module\n",
    "from sklearn.metrics import classification_report\n",
    "rep1 = classification_report(test['income'],result1) # Module takes in list of correct classes and list of predicted classes\n",
    "rep9 = classification_report(test['income'],result9)\n",
    "print (\"FOR K = 1\")\n",
    "print(rep1)\n",
    "print(\"------------------------------------------------------\")\n",
    "print (\"FOR K = 9\")\n",
    "print(rep9)\n",
    "print(\"------------------------------------------------------\")\n",
    "\n",
    "print (\"TOTAL CORRECT\")\n",
    "print (\"for K = 1\")\n",
    "print(\"{0} / {1} correct\".format(np.sum(test['income'] == result1), len(test['income'])))\n",
    "\n",
    "print (\"for K = 9\")\n",
    "print(\"{0} / {1} correct\".format(np.sum(test['income'] == result9), len(test['income'])))"
   ]
  },
  {
   "cell_type": "markdown",
   "metadata": {},
   "source": [
    "### 2.2) In a few sentences argue which k performed better, based on performance metrics from the previous task. "
   ]
  },
  {
   "cell_type": "raw",
   "metadata": {},
   "source": [
    "In our case K = 9 performed better compared to K = 1.\n",
    "Precision Average total of 0.82 was observed for K = 9 compared to 0.81 for K = 1. Thus K = 9 shows more measure of exactness or quality and returned more relevant results. \n",
    "Similarly Average recall and f1-score shown for K = 9 is 0.01 higher compared to K = 1, which suggests K = 9 has higher measure of completeness or quantity and returned most of the relevant results.\n",
    "\n",
    "Also from the last result shown above for TOTAL CORRECT. We can see for K = 1 we have fewer correctly identified data whilst K = 9 shows higher correctly identified data. This shows K = 9 performed better to that of K = 1. "
   ]
  },
  {
   "cell_type": "markdown",
   "metadata": {},
   "source": [
    "### 2.3) Classification for which class were performed better? Why do you think this is the case?"
   ]
  },
  {
   "cell_type": "code",
   "execution_count": 13,
   "metadata": {
    "collapsed": false
   },
   "outputs": [
    {
     "name": "stdout",
     "output_type": "stream",
     "text": [
      "Total <=50K Training (18460, 8)\n",
      "Total >50K Training (6120, 8)\n"
     ]
    }
   ],
   "source": [
    "print (\"Total <=50K Training\" , train[train['income']==' <=50K'].shape)\n",
    "print (\"Total >50K Training\" , train[train['income']==' >50K'].shape)"
   ]
  },
  {
   "cell_type": "raw",
   "metadata": {
    "collapsed": true
   },
   "source": [
    "As we can see (for k = 1) in 2.1 perfomance metrics\n",
    "Classification for <=50K class performed better with precision 0.84, recall 0.96 and f1-score 89 compared to that of   >50K with precision 0.78, recall 0.45 and f1-score 55.\n",
    "\n",
    "Similarly (for k = 9) \n",
    "Classification for <=50K class performed better with simlar precision and recall margin.\n",
    "\n",
    "The above could be the case because of the fact that we have performed training on higher training Data for <=50K (i.e. 18460) compared to that of >50K (i.e. 6120 training data)."
   ]
  }
 ],
 "metadata": {
  "anaconda-cloud": {},
  "kernelspec": {
   "display_name": "Python [default]",
   "language": "python",
   "name": "python3"
  },
  "language_info": {
   "codemirror_mode": {
    "name": "ipython",
    "version": 3
   },
   "file_extension": ".py",
   "mimetype": "text/x-python",
   "name": "python",
   "nbconvert_exporter": "python",
   "pygments_lexer": "ipython3",
   "version": "3.5.2"
  }
 },
 "nbformat": 4,
 "nbformat_minor": 0
}
